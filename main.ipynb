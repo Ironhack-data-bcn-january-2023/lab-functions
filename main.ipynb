{
 "cells": [
  {
   "cell_type": "markdown",
   "metadata": {},
   "source": [
    "# Functions"
   ]
  },
  {
   "cell_type": "markdown",
   "metadata": {},
   "source": [
    "On this lab we will put to practice some of the concepts we have learned on this past few days.\n",
    "\n",
    "`NOTE: On this lab you should try to write all the functions yourself using only the most basic of python syntax and without functions such as len, count, sum, max, min, in, etc. Give it a try. 🧑🏻‍💻👩🏻‍💻`\n",
    "\n",
    "The cell after each exercise contains a few tests to check if your function works as expected."
   ]
  },
  {
   "cell_type": "code",
   "execution_count": 1,
   "metadata": {},
   "outputs": [],
   "source": [
    "from mod.testing import *\n",
    "import unittest"
   ]
  },
  {
   "cell_type": "markdown",
   "metadata": {},
   "source": [
    "## 1. Write a function that returns the greater of two numbers"
   ]
  },
  {
   "cell_type": "code",
   "execution_count": 2,
   "metadata": {},
   "outputs": [],
   "source": [
    "def greater(a,b):\n",
    "    return a if a > b else b\n"
   ]
  },
  {
   "cell_type": "code",
   "execution_count": 3,
   "metadata": {},
   "outputs": [
    {
     "name": "stderr",
     "output_type": "stream",
     "text": [
      "....................................................................................................\n",
      "----------------------------------------------------------------------\n",
      "Ran 100 tests in 0.088s\n",
      "\n",
      "OK\n"
     ]
    }
   ],
   "source": [
    "# This will test your function \n",
    "test_greater(greater)"
   ]
  },
  {
   "cell_type": "markdown",
   "metadata": {},
   "source": [
    "## 2. Now write a function that returns the largest element on a list"
   ]
  },
  {
   "cell_type": "code",
   "execution_count": 4,
   "metadata": {},
   "outputs": [
    {
     "data": {
      "text/plain": [
       "10"
      ]
     },
     "execution_count": 4,
     "metadata": {},
     "output_type": "execute_result"
    }
   ],
   "source": [
    "my_list=[1,2,3,4,5,6,7,8,9,10]\n",
    "def greatest(list_of_numbers):\n",
    "    maximum=0\n",
    "    for i in list_of_numbers:\n",
    "        if i>maximum:\n",
    "            maximum=i\n",
    "    return maximum\n",
    "\n",
    "greatest(my_list)        "
   ]
  },
  {
   "cell_type": "code",
   "execution_count": 5,
   "metadata": {},
   "outputs": [
    {
     "name": "stderr",
     "output_type": "stream",
     "text": [
      "....................................................................................................\n",
      "----------------------------------------------------------------------\n",
      "Ran 100 tests in 0.079s\n",
      "\n",
      "OK\n"
     ]
    }
   ],
   "source": [
    "# This will test your function \n",
    "test_greatest(greatest)"
   ]
  },
  {
   "cell_type": "markdown",
   "metadata": {},
   "source": [
    "## 3. Write a function that sums all the elements on a list"
   ]
  },
  {
   "cell_type": "code",
   "execution_count": 6,
   "metadata": {},
   "outputs": [
    {
     "data": {
      "text/plain": [
       "55"
      ]
     },
     "execution_count": 6,
     "metadata": {},
     "output_type": "execute_result"
    }
   ],
   "source": [
    "def sum_all(list_of_numbers):\n",
    "    total=0\n",
    "    for i in list_of_numbers:\n",
    "        total+=i\n",
    "    return total\n",
    "sum_all(my_list)"
   ]
  },
  {
   "cell_type": "code",
   "execution_count": 7,
   "metadata": {},
   "outputs": [
    {
     "name": "stderr",
     "output_type": "stream",
     "text": [
      "....................................................................................................\n",
      "----------------------------------------------------------------------\n",
      "Ran 100 tests in 0.121s\n",
      "\n",
      "OK\n"
     ]
    }
   ],
   "source": [
    "# This will test your function \n",
    "test_sum(sum_all)"
   ]
  },
  {
   "cell_type": "markdown",
   "metadata": {},
   "source": [
    "## 4. Write another function that multiplies all the elements on a list"
   ]
  },
  {
   "cell_type": "code",
   "execution_count": 8,
   "metadata": {},
   "outputs": [
    {
     "data": {
      "text/plain": [
       "3628800"
      ]
     },
     "execution_count": 8,
     "metadata": {},
     "output_type": "execute_result"
    }
   ],
   "source": [
    "def mult_all(list_of_numbers):\n",
    "    total=1\n",
    "    for i in list_of_numbers:\n",
    "        total=total*i\n",
    "    return total\n",
    "mult_all(my_list)"
   ]
  },
  {
   "cell_type": "code",
   "execution_count": 9,
   "metadata": {},
   "outputs": [
    {
     "name": "stderr",
     "output_type": "stream",
     "text": [
      "....................................................................................................\n",
      "----------------------------------------------------------------------\n",
      "Ran 100 tests in 0.107s\n",
      "\n",
      "OK\n"
     ]
    }
   ],
   "source": [
    "# This will test your function \n",
    "test_mult(mult_all)"
   ]
  },
  {
   "cell_type": "markdown",
   "metadata": {},
   "source": [
    "## 5. Now combine those two ideas and write a function that receives a list and either \"+\" or \"*\" and outputs acordingly"
   ]
  },
  {
   "cell_type": "code",
   "execution_count": 10,
   "metadata": {},
   "outputs": [
    {
     "data": {
      "text/plain": [
       "55"
      ]
     },
     "execution_count": 10,
     "metadata": {},
     "output_type": "execute_result"
    }
   ],
   "source": [
    "def oper_all(list_of_numbers, operator='+'):\n",
    "    if operator =='+':\n",
    "        total=0\n",
    "        for i in list_of_numbers:\n",
    "            total+=i\n",
    "    elif operator =='*':\n",
    "        total=1\n",
    "        for i in list_of_numbers:\n",
    "            total= total*i\n",
    "    return total\n",
    "oper_all(my_list,'+')"
   ]
  },
  {
   "cell_type": "code",
   "execution_count": 11,
   "metadata": {},
   "outputs": [
    {
     "name": "stderr",
     "output_type": "stream",
     "text": [
      "....................................................................................................\n",
      "----------------------------------------------------------------------\n",
      "Ran 100 tests in 0.095s\n",
      "\n",
      "OK\n"
     ]
    }
   ],
   "source": [
    "# This will test your function \n",
    "test_operations(oper_all)"
   ]
  },
  {
   "cell_type": "markdown",
   "metadata": {},
   "source": [
    "## 6. Write a function that returns the factorial of a number."
   ]
  },
  {
   "cell_type": "code",
   "execution_count": 12,
   "metadata": {},
   "outputs": [
    {
     "data": {
      "text/plain": [
       "6"
      ]
     },
     "execution_count": 12,
     "metadata": {},
     "output_type": "execute_result"
    }
   ],
   "source": [
    "def factorial(n):\n",
    "    fac = 1\n",
    "    for i in range(n):\n",
    "        fac = (fac * (i+1))\n",
    "    return fac\n",
    "factorial(3)\n"
   ]
  },
  {
   "cell_type": "code",
   "execution_count": 13,
   "metadata": {},
   "outputs": [
    {
     "name": "stderr",
     "output_type": "stream",
     "text": [
      "....................................................................................................\n",
      "----------------------------------------------------------------------\n",
      "Ran 100 tests in 0.118s\n",
      "\n",
      "OK\n"
     ]
    }
   ],
   "source": [
    "# This will test your function \n",
    "test_factorial(factorial)"
   ]
  },
  {
   "cell_type": "markdown",
   "metadata": {},
   "source": [
    "## 7. Write a function that takes a list and returns a list of the unique values.\n",
    "\n",
    "`NOTE: You cannot use set. 🤔`"
   ]
  },
  {
   "cell_type": "code",
   "execution_count": 14,
   "metadata": {},
   "outputs": [
    {
     "data": {
      "text/plain": [
       "[1, 2, 3, 4, 5, 6, 7]"
      ]
     },
     "execution_count": 14,
     "metadata": {},
     "output_type": "execute_result"
    }
   ],
   "source": [
    "list_of_numbers=[1,2,3,4,5,6,7,5,5,5,5,5,5,5,5,5,6,6,6,6,6,6,6,7,7,7,7,7,]\n",
    "def unique(list_argument):\n",
    "    list_of_unique=[]\n",
    "    for i in list_argument:\n",
    "        if i in list_of_unique:\n",
    "            pass\n",
    "        else:\n",
    "            list_of_unique.append(i)\n",
    "    return list_of_unique\n",
    "unique(list_of_numbers)\n",
    "    "
   ]
  },
  {
   "cell_type": "code",
   "execution_count": 15,
   "metadata": {},
   "outputs": [
    {
     "name": "stderr",
     "output_type": "stream",
     "text": [
      "....................................................................................................\n",
      "----------------------------------------------------------------------\n",
      "Ran 100 tests in 0.244s\n",
      "\n",
      "OK\n"
     ]
    }
   ],
   "source": [
    "# This will test your function \n",
    "test_unique(unique)"
   ]
  },
  {
   "cell_type": "markdown",
   "metadata": {},
   "source": [
    "## 8. Write a function that calculates the standard deviation of a list.\n",
    "`NOTE: Do not use any libraries or already built functions. 😉`"
   ]
  },
  {
   "cell_type": "code",
   "execution_count": 16,
   "metadata": {},
   "outputs": [
    {
     "name": "stdout",
     "output_type": "stream",
     "text": [
      "cantidad de valores  2 suma de cuadrados  40.5 suma total  11 media 5.5\n",
      "4.5\n"
     ]
    }
   ],
   "source": [
    "list_of_numbers=[1,10]\n",
    "def st_dev(list_argument):\n",
    "    count_of_number= 0\n",
    "    squared_sum = 0 \n",
    "    sum_numbers = 0\n",
    "    \n",
    "    for i in list_argument:\n",
    "        count_of_number+=1\n",
    "        sum_numbers +=i\n",
    "    mean = sum_numbers/count_of_number   \n",
    "    for i in list_argument:\n",
    "        squared_sum += (i-mean)**2\n",
    "    \n",
    "    std_deviation_calculated = (squared_sum/count_of_number)**(0.5)\n",
    "    print('cantidad de valores ',count_of_number, 'suma de cuadrados ',squared_sum, 'suma total ', sum_numbers, 'media' ,mean)\n",
    "    return std_deviation_calculated\n",
    "print(st_dev(list_of_numbers))\n",
    "from statistics import stdev\n"
   ]
  },
  {
   "cell_type": "code",
   "execution_count": 17,
   "metadata": {},
   "outputs": [
    {
     "name": "stderr",
     "output_type": "stream",
     "text": [
      "."
     ]
    },
    {
     "name": "stdout",
     "output_type": "stream",
     "text": [
      "cantidad de valores  92 suma de cuadrados  31260709.956521742 suma total  4418 media 48.02173913043478\n"
     ]
    },
    {
     "name": "stderr",
     "output_type": "stream",
     "text": [
      "FFFFFFFFFF.F.FFF.FFFFF...FFFFFFF..F.FF..FFFF.F.....F.FFF..FFFF"
     ]
    },
    {
     "name": "stdout",
     "output_type": "stream",
     "text": [
      "cantidad de valores  55 suma de cuadrados  16725367.38181818 suma total  1242 media 22.581818181818182\n",
      "cantidad de valores  48 suma de cuadrados  17048864.666666664 suma total  7120 media 148.33333333333334\n",
      "cantidad de valores  39 suma de cuadrados  14522894.76923077 suma total  855 media 21.923076923076923\n",
      "cantidad de valores  39 suma de cuadrados  11751834.974358972 suma total  -6538 media -167.64102564102564\n",
      "cantidad de valores  48 suma de cuadrados  14508974.8125 suma total  189 media 3.9375\n",
      "cantidad de valores  46 suma de cuadrados  15027771.326086959 suma total  3325 media 72.28260869565217\n",
      "cantidad de valores  39 suma de cuadrados  11294472.666666668 suma total  -2743 media -70.33333333333333\n",
      "cantidad de valores  43 suma de cuadrados  11082290.418604653 suma total  -5638 media -131.11627906976744\n",
      "cantidad de valores  28 suma de cuadrados  9186486.107142858 suma total  4909 media 175.32142857142858\n",
      "cantidad de valores  13 suma de cuadrados  4915539.076923078 suma total  -2582 media -198.6153846153846\n",
      "cantidad de valores  61 suma de cuadrados  20117360.852459017 suma total  -119 media -1.9508196721311475\n",
      "cantidad de valores  18 suma de cuadrados  7336417.61111111 suma total  -5117 media -284.27777777777777\n",
      "cantidad de valores  90 suma de cuadrados  33091420.900000002 suma total  -3273 media -36.36666666666667\n",
      "cantidad de valores  46 suma de cuadrados  13500281.73913044 suma total  -4614 media -100.30434782608695\n",
      "cantidad de valores  58 suma de cuadrados  21651932.27586207 suma total  -222 media -3.8275862068965516\n",
      "cantidad de valores  24 suma de cuadrados  5190249.833333332 suma total  4790 media 199.58333333333334\n",
      "cantidad de valores  89 suma de cuadrados  32664142.87640449 suma total  2749 media 30.8876404494382\n",
      "cantidad de valores  50 suma de cuadrados  14750645.92 suma total  -5452 media -109.04\n",
      "cantidad de valores  23 suma de cuadrados  8988586.0 suma total  -138 media -6.0\n",
      "cantidad de valores  62 suma de cuadrados  24202271.88709678 suma total  -2129 media -34.33870967741935\n",
      "cantidad de valores  12 suma de cuadrados  4338464.25 suma total  -1203 media -100.25\n",
      "cantidad de valores  34 suma de cuadrados  9191386.235294119 suma total  3386 media 99.58823529411765\n",
      "cantidad de valores  83 suma de cuadrados  27873316.168674704 suma total  -5085 media -61.265060240963855\n",
      "cantidad de valores  65 suma de cuadrados  20404614.061538465 suma total  3526 media 54.246153846153845\n",
      "cantidad de valores  87 suma de cuadrados  27669989.402298857 suma total  -1981 media -22.770114942528735\n",
      "cantidad de valores  45 suma de cuadrados  10782604.97777778 suma total  1351 media 30.022222222222222\n",
      "cantidad de valores  28 suma de cuadrados  8437335.857142856 suma total  1318 media 47.07142857142857\n",
      "cantidad de valores  55 suma de cuadrados  17835517.709090915 suma total  -3296 media -59.92727272727273\n",
      "cantidad de valores  38 suma de cuadrados  11612212.97368421 suma total  -1977 media -52.026315789473685\n",
      "cantidad de valores  19 suma de cuadrados  4862298.421052633 suma total  297 media 15.631578947368421\n",
      "cantidad de valores  10 suma de cuadrados  2522762.0999999996 suma total  -1853 media -185.3\n",
      "cantidad de valores  10 suma de cuadrados  2609290.0 suma total  1970 media 197.0\n",
      "cantidad de valores  81 suma de cuadrados  24206930.888888884 suma total  1326 media 16.37037037037037\n",
      "cantidad de valores  66 suma de cuadrados  24996291.939393938 suma total  -1828 media -27.696969696969695\n",
      "cantidad de valores  39 suma de cuadrados  14360037.07692308 suma total  7299 media 187.15384615384616\n",
      "cantidad de valores  97 suma de cuadrados  29658097.87628866 suma total  2308 media 23.79381443298969\n",
      "cantidad de valores  19 suma de cuadrados  6045267.789473686 suma total  2548 media 134.10526315789474\n",
      "cantidad de valores  11 suma de cuadrados  3250157.636363636 suma total  2286 media 207.8181818181818\n",
      "cantidad de valores  66 suma de cuadrados  22974124.12121213 suma total  -4790 media -72.57575757575758\n",
      "cantidad de valores  67 suma de cuadrados  18569338.74626866 suma total  704 media 10.507462686567164\n",
      "cantidad de valores  15 suma de cuadrados  4178757.3333333335 suma total  -2455 media -163.66666666666666\n",
      "cantidad de valores  38 suma de cuadrados  11084110.842105264 suma total  5762 media 151.6315789473684\n",
      "cantidad de valores  28 suma de cuadrados  10437772.107142854 suma total  765 media 27.321428571428573\n",
      "cantidad de valores  30 suma de cuadrados  8931092.966666667 suma total  1259 media 41.96666666666667\n",
      "cantidad de valores  99 suma de cuadrados  32531966.727272727 suma total  843 media 8.515151515151516\n",
      "cantidad de valores  52 suma de cuadrados  16121931.923076924 suma total  50 media 0.9615384615384616\n",
      "cantidad de valores  70 suma de cuadrados  24492979.942857143 suma total  1948 media 27.82857142857143\n",
      "cantidad de valores  88 suma de cuadrados  28444492.988636367 suma total  -3783 media -42.98863636363637\n",
      "cantidad de valores  67 suma de cuadrados  23403866.29850746 suma total  1837 media 27.417910447761194\n",
      "cantidad de valores  73 suma de cuadrados  22858862.164383557 suma total  7772 media 106.46575342465754\n",
      "cantidad de valores  57 suma de cuadrados  13719466.035087723 suma total  -1564 media -27.43859649122807\n",
      "cantidad de valores  43 suma de cuadrados  13960044.046511624 suma total  457 media 10.627906976744185\n",
      "cantidad de valores  66 suma de cuadrados  24938737.53030303 suma total  -9551 media -144.71212121212122\n",
      "cantidad de valores  11 suma de cuadrados  3560742.545454546 suma total  -1668 media -151.63636363636363\n",
      "cantidad de valores  30 suma de cuadrados  8188812.666666664 suma total  1240 media 41.333333333333336\n",
      "cantidad de valores  26 suma de cuadrados  6458800.153846154 suma total  -6120 media -235.3846153846154\n",
      "cantidad de valores  71 suma de cuadrados  23071476.957746476 suma total  -1306 media -18.3943661971831\n",
      "cantidad de valores  69 suma de cuadrados  22262069.652173903 suma total  -4323 media -62.65217391304348\n",
      "cantidad de valores  46 suma de cuadrados  10729400.80434783 suma total  -3407 media -74.06521739130434\n",
      "cantidad de valores  43 suma de cuadrados  18140359.767441858 suma total  1533 media 35.651162790697676\n",
      "cantidad de valores  33 suma de cuadrados  8616552.0 suma total  561 media 17.0\n",
      "cantidad de valores  16 suma de cuadrados  4478126.4375 suma total  -1133 media -70.8125\n",
      "cantidad de valores "
     ]
    },
    {
     "name": "stderr",
     "output_type": "stream",
     "text": [
      "..FFFFFF"
     ]
    },
    {
     "name": "stdout",
     "output_type": "stream",
     "text": [
      " 91 suma de cuadrados  29279566.527472526 suma total  1952 media 21.45054945054945\n",
      "cantidad de valores  95 suma de cuadrados  33984072.90526316 suma total  6558 media 69.03157894736842\n",
      "cantidad de valores  13 suma de cuadrados  3967125.2307692305 suma total  -2307 media -177.46153846153845\n",
      "cantidad de valores  15 suma de cuadrados  4437520.933333333 suma total  -3271 media -218.06666666666666\n",
      "cantidad de valores  27 suma de cuadrados  8872045.62962963 suma total  -4339 media -160.7037037037037\n",
      "cantidad de valores  25 suma de cuadrados  9252362.64 suma total  -1053 media -42.12\n",
      "cantidad de valores  16 suma de cuadrados  4423885.75 suma total  -4274 media -267.125\n",
      "cantidad de valores  13 suma de cuadrados  3098051.230769231 suma total  -3256 media -250.46153846153845\n"
     ]
    },
    {
     "name": "stderr",
     "output_type": "stream",
     "text": [
      ".....F....F.FFF.F......F.FF..\n",
      "======================================================================\n",
      "FAIL: runTest (mod.testing.test_stdev.<locals>.TestKnown)\n",
      "----------------------------------------------------------------------\n",
      "Traceback (most recent call last):\n",
      "  File \"C:\\Users\\sergi\\Documents\\IronHack\\labs\\sergi-lab-functions\\mod\\testing.py\", line 142, in runTest\n",
      "    self.assertAlmostEqual(fn(self.input), self.output, delta=5, msg=f\"Should be {self.output}\")\n",
      "AssertionError: 551.4504408923168 != 556.5330408782803 within 5 delta : Should be 556.5330408782803\n",
      "\n",
      "======================================================================\n",
      "FAIL: runTest (mod.testing.test_stdev.<locals>.TestKnown)\n",
      "----------------------------------------------------------------------\n",
      "Traceback (most recent call last):\n",
      "  File \"C:\\Users\\sergi\\Documents\\IronHack\\labs\\sergi-lab-functions\\mod\\testing.py\", line 142, in runTest\n",
      "    self.assertAlmostEqual(fn(self.input), self.output, delta=5, msg=f\"Should be {self.output}\")\n",
      "AssertionError: 595.9737247190983 != 602.2805006128289 within 5 delta : Should be 602.2805006128289\n",
      "\n",
      "======================================================================\n",
      "FAIL: runTest (mod.testing.test_stdev.<locals>.TestKnown)\n",
      "----------------------------------------------------------------------\n",
      "Traceback (most recent call last):\n",
      "  File \"C:\\Users\\sergi\\Documents\\IronHack\\labs\\sergi-lab-functions\\mod\\testing.py\", line 142, in runTest\n",
      "    self.assertAlmostEqual(fn(self.input), self.output, delta=5, msg=f\"Should be {self.output}\")\n",
      "AssertionError: 610.2310358870346 != 618.2082507501389 within 5 delta : Should be 618.2082507501389\n",
      "\n",
      "======================================================================\n",
      "FAIL: runTest (mod.testing.test_stdev.<locals>.TestKnown)\n",
      "----------------------------------------------------------------------\n",
      "Traceback (most recent call last):\n",
      "  File \"C:\\Users\\sergi\\Documents\\IronHack\\labs\\sergi-lab-functions\\mod\\testing.py\", line 142, in runTest\n",
      "    self.assertAlmostEqual(fn(self.input), self.output, delta=5, msg=f\"Should be {self.output}\")\n",
      "AssertionError: 548.93451513513 != 556.110434279658 within 5 delta : Should be 556.110434279658\n",
      "\n",
      "======================================================================\n",
      "FAIL: runTest (mod.testing.test_stdev.<locals>.TestKnown)\n",
      "----------------------------------------------------------------------\n",
      "Traceback (most recent call last):\n",
      "  File \"C:\\Users\\sergi\\Documents\\IronHack\\labs\\sergi-lab-functions\\mod\\testing.py\", line 142, in runTest\n",
      "    self.assertAlmostEqual(fn(self.input), self.output, delta=5, msg=f\"Should be {self.output}\")\n",
      "AssertionError: 549.7911499776528 != 555.6092077668612 within 5 delta : Should be 555.6092077668612\n",
      "\n",
      "======================================================================\n",
      "FAIL: runTest (mod.testing.test_stdev.<locals>.TestKnown)\n",
      "----------------------------------------------------------------------\n",
      "Traceback (most recent call last):\n",
      "  File \"C:\\Users\\sergi\\Documents\\IronHack\\labs\\sergi-lab-functions\\mod\\testing.py\", line 142, in runTest\n",
      "    self.assertAlmostEqual(fn(self.input), self.output, delta=5, msg=f\"Should be {self.output}\")\n",
      "AssertionError: 571.5686144304027 != 577.8844814606492 within 5 delta : Should be 577.8844814606492\n",
      "\n",
      "======================================================================\n",
      "FAIL: runTest (mod.testing.test_stdev.<locals>.TestKnown)\n",
      "----------------------------------------------------------------------\n",
      "Traceback (most recent call last):\n",
      "  File \"C:\\Users\\sergi\\Documents\\IronHack\\labs\\sergi-lab-functions\\mod\\testing.py\", line 142, in runTest\n",
      "    self.assertAlmostEqual(fn(self.input), self.output, delta=5, msg=f\"Should be {self.output}\")\n",
      "AssertionError: 538.1466930567011 != 545.1815889337063 within 5 delta : Should be 545.1815889337063\n",
      "\n",
      "======================================================================\n",
      "FAIL: runTest (mod.testing.test_stdev.<locals>.TestKnown)\n",
      "----------------------------------------------------------------------\n",
      "Traceback (most recent call last):\n",
      "  File \"C:\\Users\\sergi\\Documents\\IronHack\\labs\\sergi-lab-functions\\mod\\testing.py\", line 142, in runTest\n",
      "    self.assertAlmostEqual(fn(self.input), self.output, delta=5, msg=f\"Should be {self.output}\")\n",
      "AssertionError: 507.66887254744756 != 513.676997329864 within 5 delta : Should be 513.676997329864\n",
      "\n",
      "======================================================================\n",
      "FAIL: runTest (mod.testing.test_stdev.<locals>.TestKnown)\n",
      "----------------------------------------------------------------------\n",
      "Traceback (most recent call last):\n",
      "  File \"C:\\Users\\sergi\\Documents\\IronHack\\labs\\sergi-lab-functions\\mod\\testing.py\", line 142, in runTest\n",
      "    self.assertAlmostEqual(fn(self.input), self.output, delta=5, msg=f\"Should be {self.output}\")\n",
      "AssertionError: 572.7903539173965 != 583.3011453704478 within 5 delta : Should be 583.3011453704478\n",
      "\n",
      "======================================================================\n",
      "FAIL: runTest (mod.testing.test_stdev.<locals>.TestKnown)\n",
      "----------------------------------------------------------------------\n",
      "Traceback (most recent call last):\n",
      "  File \"C:\\Users\\sergi\\Documents\\IronHack\\labs\\sergi-lab-functions\\mod\\testing.py\", line 142, in runTest\n",
      "    self.assertAlmostEqual(fn(self.input), self.output, delta=5, msg=f\"Should be {self.output}\")\n",
      "AssertionError: 614.913319527675 != 640.0220749398073 within 5 delta : Should be 640.0220749398073\n",
      "\n",
      "======================================================================\n",
      "FAIL: runTest (mod.testing.test_stdev.<locals>.TestKnown)\n",
      "----------------------------------------------------------------------\n",
      "Traceback (most recent call last):\n",
      "  File \"C:\\Users\\sergi\\Documents\\IronHack\\labs\\sergi-lab-functions\\mod\\testing.py\", line 142, in runTest\n",
      "    self.assertAlmostEqual(fn(self.input), self.output, delta=5, msg=f\"Should be {self.output}\")\n",
      "AssertionError: 638.4189503553598 != 656.9276802846589 within 5 delta : Should be 656.9276802846589\n",
      "\n",
      "======================================================================\n",
      "FAIL: runTest (mod.testing.test_stdev.<locals>.TestKnown)\n",
      "----------------------------------------------------------------------\n",
      "Traceback (most recent call last):\n",
      "  File \"C:\\Users\\sergi\\Documents\\IronHack\\labs\\sergi-lab-functions\\mod\\testing.py\", line 142, in runTest\n",
      "    self.assertAlmostEqual(fn(self.input), self.output, delta=5, msg=f\"Should be {self.output}\")\n",
      "AssertionError: 541.7419917573959 != 547.7282728411645 within 5 delta : Should be 547.7282728411645\n",
      "\n",
      "======================================================================\n",
      "FAIL: runTest (mod.testing.test_stdev.<locals>.TestKnown)\n",
      "----------------------------------------------------------------------\n",
      "Traceback (most recent call last):\n",
      "  File \"C:\\Users\\sergi\\Documents\\IronHack\\labs\\sergi-lab-functions\\mod\\testing.py\", line 142, in runTest\n",
      "    self.assertAlmostEqual(fn(self.input), self.output, delta=5, msg=f\"Should be {self.output}\")\n",
      "AssertionError: 610.9903249397945 != 616.326586299858 within 5 delta : Should be 616.326586299858\n",
      "\n",
      "======================================================================\n",
      "FAIL: runTest (mod.testing.test_stdev.<locals>.TestKnown)\n",
      "----------------------------------------------------------------------\n",
      "Traceback (most recent call last):\n",
      "  File \"C:\\Users\\sergi\\Documents\\IronHack\\labs\\sergi-lab-functions\\mod\\testing.py\", line 142, in runTest\n",
      "    self.assertAlmostEqual(fn(self.input), self.output, delta=5, msg=f\"Should be {self.output}\")\n",
      "AssertionError: 465.0380734114382 != 475.0400364515438 within 5 delta : Should be 475.0400364515438\n",
      "\n",
      "======================================================================\n",
      "FAIL: runTest (mod.testing.test_stdev.<locals>.TestKnown)\n",
      "----------------------------------------------------------------------\n",
      "Traceback (most recent call last):\n",
      "  File \"C:\\Users\\sergi\\Documents\\IronHack\\labs\\sergi-lab-functions\\mod\\testing.py\", line 142, in runTest\n",
      "    self.assertAlmostEqual(fn(self.input), self.output, delta=5, msg=f\"Should be {self.output}\")\n",
      "AssertionError: 543.1509167809625 != 548.6652806621553 within 5 delta : Should be 548.6652806621553\n",
      "\n",
      "======================================================================\n",
      "FAIL: runTest (mod.testing.test_stdev.<locals>.TestKnown)\n",
      "----------------------------------------------------------------------\n",
      "Traceback (most recent call last):\n",
      "  File \"C:\\Users\\sergi\\Documents\\IronHack\\labs\\sergi-lab-functions\\mod\\testing.py\", line 142, in runTest\n",
      "    self.assertAlmostEqual(fn(self.input), self.output, delta=5, msg=f\"Should be {self.output}\")\n",
      "AssertionError: 625.1464524065715 != 639.1964415647907 within 5 delta : Should be 639.1964415647907\n",
      "\n",
      "======================================================================\n",
      "FAIL: runTest (mod.testing.test_stdev.<locals>.TestKnown)\n",
      "----------------------------------------------------------------------\n",
      "Traceback (most recent call last):\n",
      "  File \"C:\\Users\\sergi\\Documents\\IronHack\\labs\\sergi-lab-functions\\mod\\testing.py\", line 142, in runTest\n",
      "    self.assertAlmostEqual(fn(self.input), self.output, delta=5, msg=f\"Should be {self.output}\")\n",
      "AssertionError: 624.7873430099493 != 629.8877324779207 within 5 delta : Should be 629.8877324779207\n",
      "\n",
      "======================================================================\n",
      "FAIL: runTest (mod.testing.test_stdev.<locals>.TestKnown)\n",
      "----------------------------------------------------------------------\n",
      "Traceback (most recent call last):\n",
      "  File \"C:\\Users\\sergi\\Documents\\IronHack\\labs\\sergi-lab-functions\\mod\\testing.py\", line 142, in runTest\n",
      "    self.assertAlmostEqual(fn(self.input), self.output, delta=5, msg=f\"Should be {self.output}\")\n",
      "AssertionError: 601.2808723882708 != 628.0173890180836 within 5 delta : Should be 628.0173890180836\n",
      "\n",
      "======================================================================\n",
      "FAIL: runTest (mod.testing.test_stdev.<locals>.TestKnown)\n",
      "----------------------------------------------------------------------\n",
      "Traceback (most recent call last):\n",
      "  File \"C:\\Users\\sergi\\Documents\\IronHack\\labs\\sergi-lab-functions\\mod\\testing.py\", line 142, in runTest\n",
      "    self.assertAlmostEqual(fn(self.input), self.output, delta=5, msg=f\"Should be {self.output}\")\n",
      "AssertionError: 519.9373897628025 != 527.7564358820964 within 5 delta : Should be 527.7564358820964\n",
      "\n",
      "======================================================================\n",
      "FAIL: runTest (mod.testing.test_stdev.<locals>.TestKnown)\n",
      "----------------------------------------------------------------------\n",
      "Traceback (most recent call last):\n",
      "  File \"C:\\Users\\sergi\\Documents\\IronHack\\labs\\sergi-lab-functions\\mod\\testing.py\", line 142, in runTest\n",
      "    self.assertAlmostEqual(fn(self.input), self.output, delta=5, msg=f\"Should be {self.output}\")\n",
      "AssertionError: 489.50326245145425 != 495.03454833011807 within 5 delta : Should be 495.03454833011807\n",
      "\n",
      "======================================================================\n",
      "FAIL: runTest (mod.testing.test_stdev.<locals>.TestKnown)\n",
      "----------------------------------------------------------------------\n",
      "Traceback (most recent call last):\n",
      "  File \"C:\\Users\\sergi\\Documents\\IronHack\\labs\\sergi-lab-functions\\mod\\testing.py\", line 142, in runTest\n",
      "    self.assertAlmostEqual(fn(self.input), self.output, delta=5, msg=f\"Should be {self.output}\")\n",
      "AssertionError: 548.9384514400388 != 559.0115567990707 within 5 delta : Should be 559.0115567990707\n",
      "\n",
      "======================================================================\n",
      "FAIL: runTest (mod.testing.test_stdev.<locals>.TestKnown)\n",
      "----------------------------------------------------------------------\n",
      "Traceback (most recent call last):\n",
      "  File \"C:\\Users\\sergi\\Documents\\IronHack\\labs\\sergi-lab-functions\\mod\\testing.py\", line 142, in runTest\n",
      "    self.assertAlmostEqual(fn(self.input), self.output, delta=5, msg=f\"Should be {self.output}\")\n",
      "AssertionError: 569.4577597726536 != 574.7063293397464 within 5 delta : Should be 574.7063293397464\n",
      "\n",
      "======================================================================\n",
      "FAIL: runTest (mod.testing.test_stdev.<locals>.TestKnown)\n",
      "----------------------------------------------------------------------\n",
      "Traceback (most recent call last):\n",
      "  File \"C:\\Users\\sergi\\Documents\\IronHack\\labs\\sergi-lab-functions\\mod\\testing.py\", line 142, in runTest\n",
      "    self.assertAlmostEqual(fn(self.input), self.output, delta=5, msg=f\"Should be {self.output}\")\n",
      "AssertionError: 552.7970259860831 != 560.2174523195052 within 5 delta : Should be 560.2174523195052\n",
      "\n",
      "======================================================================\n",
      "FAIL: runTest (mod.testing.test_stdev.<locals>.TestKnown)\n",
      "----------------------------------------------------------------------\n",
      "Traceback (most recent call last):\n",
      "  File \"C:\\Users\\sergi\\Documents\\IronHack\\labs\\sergi-lab-functions\\mod\\testing.py\", line 142, in runTest\n",
      "    self.assertAlmostEqual(fn(self.input), self.output, delta=5, msg=f\"Should be {self.output}\")\n",
      "AssertionError: 505.87591681488107 != 519.7380975630703 within 5 delta : Should be 519.7380975630703\n",
      "\n",
      "======================================================================\n",
      "FAIL: runTest (mod.testing.test_stdev.<locals>.TestKnown)\n",
      "----------------------------------------------------------------------\n",
      "Traceback (most recent call last):\n",
      "  File \"C:\\Users\\sergi\\Documents\\IronHack\\labs\\sergi-lab-functions\\mod\\testing.py\", line 142, in runTest\n",
      "    self.assertAlmostEqual(fn(self.input), self.output, delta=5, msg=f\"Should be {self.output}\")\n",
      "AssertionError: 502.27105232135364 != 529.4401760350266 within 5 delta : Should be 529.4401760350266\n",
      "\n",
      "======================================================================\n",
      "FAIL: runTest (mod.testing.test_stdev.<locals>.TestKnown)\n",
      "----------------------------------------------------------------------\n",
      "Traceback (most recent call last):\n",
      "  File \"C:\\Users\\sergi\\Documents\\IronHack\\labs\\sergi-lab-functions\\mod\\testing.py\", line 142, in runTest\n",
      "    self.assertAlmostEqual(fn(self.input), self.output, delta=5, msg=f\"Should be {self.output}\")\n",
      "AssertionError: 510.8120985254754 != 538.4432292369466 within 5 delta : Should be 538.4432292369466\n",
      "\n",
      "======================================================================\n",
      "FAIL: runTest (mod.testing.test_stdev.<locals>.TestKnown)\n",
      "----------------------------------------------------------------------\n",
      "Traceback (most recent call last):\n",
      "  File \"C:\\Users\\sergi\\Documents\\IronHack\\labs\\sergi-lab-functions\\mod\\testing.py\", line 142, in runTest\n",
      "    self.assertAlmostEqual(fn(self.input), self.output, delta=5, msg=f\"Should be {self.output}\")\n",
      "AssertionError: 606.799867250697 != 614.7322283324727 within 5 delta : Should be 614.7322283324727\n",
      "\n",
      "======================================================================\n",
      "FAIL: runTest (mod.testing.test_stdev.<locals>.TestKnown)\n",
      "----------------------------------------------------------------------\n",
      "Traceback (most recent call last):\n",
      "  File \"C:\\Users\\sergi\\Documents\\IronHack\\labs\\sergi-lab-functions\\mod\\testing.py\", line 142, in runTest\n",
      "    self.assertAlmostEqual(fn(self.input), self.output, delta=5, msg=f\"Should be {self.output}\")\n",
      "AssertionError: 564.0673620408007 != 579.5241241970137 within 5 delta : Should be 579.5241241970137\n",
      "\n",
      "======================================================================\n",
      "FAIL: runTest (mod.testing.test_stdev.<locals>.TestKnown)\n",
      "----------------------------------------------------------------------\n",
      "Traceback (most recent call last):\n",
      "  File \"C:\\Users\\sergi\\Documents\\IronHack\\labs\\sergi-lab-functions\\mod\\testing.py\", line 142, in runTest\n",
      "    self.assertAlmostEqual(fn(self.input), self.output, delta=5, msg=f\"Should be {self.output}\")\n",
      "AssertionError: 543.5704885597247 != 570.1015380056115 within 5 delta : Should be 570.1015380056115\n",
      "\n",
      "======================================================================\n",
      "FAIL: runTest (mod.testing.test_stdev.<locals>.TestKnown)\n",
      "----------------------------------------------------------------------\n",
      "Traceback (most recent call last):\n",
      "  File \"C:\\Users\\sergi\\Documents\\IronHack\\labs\\sergi-lab-functions\\mod\\testing.py\", line 142, in runTest\n",
      "    self.assertAlmostEqual(fn(self.input), self.output, delta=5, msg=f\"Should be {self.output}\")\n",
      "AssertionError: 527.8104036699374 != 546.3356721528137 within 5 delta : Should be 546.3356721528137\n",
      "\n",
      "======================================================================\n",
      "FAIL: runTest (mod.testing.test_stdev.<locals>.TestKnown)\n",
      "----------------------------------------------------------------------\n",
      "Traceback (most recent call last):\n",
      "  File \"C:\\Users\\sergi\\Documents\\IronHack\\labs\\sergi-lab-functions\\mod\\testing.py\", line 142, in runTest\n",
      "    self.assertAlmostEqual(fn(self.input), self.output, delta=5, msg=f\"Should be {self.output}\")\n",
      "AssertionError: 540.0806675153469 != 547.3303968355332 within 5 delta : Should be 547.3303968355332\n",
      "\n",
      "======================================================================\n",
      "FAIL: runTest (mod.testing.test_stdev.<locals>.TestKnown)\n",
      "----------------------------------------------------------------------\n",
      "Traceback (most recent call last):\n",
      "  File \"C:\\Users\\sergi\\Documents\\IronHack\\labs\\sergi-lab-functions\\mod\\testing.py\", line 142, in runTest\n",
      "    self.assertAlmostEqual(fn(self.input), self.output, delta=5, msg=f\"Should be {self.output}\")\n",
      "AssertionError: 610.5551369492373 != 621.7589180031133 within 5 delta : Should be 621.7589180031133\n",
      "\n",
      "======================================================================\n",
      "FAIL: runTest (mod.testing.test_stdev.<locals>.TestKnown)\n",
      "----------------------------------------------------------------------\n",
      "Traceback (most recent call last):\n",
      "  File \"C:\\Users\\sergi\\Documents\\IronHack\\labs\\sergi-lab-functions\\mod\\testing.py\", line 142, in runTest\n",
      "    self.assertAlmostEqual(fn(self.input), self.output, delta=5, msg=f\"Should be {self.output}\")\n",
      "AssertionError: 545.6217544131547 != 554.9492976736756 within 5 delta : Should be 554.9492976736756\n",
      "\n",
      "======================================================================\n",
      "FAIL: runTest (mod.testing.test_stdev.<locals>.TestKnown)\n",
      "----------------------------------------------------------------------\n",
      "Traceback (most recent call last):\n",
      "  File \"C:\\Users\\sergi\\Documents\\IronHack\\labs\\sergi-lab-functions\\mod\\testing.py\", line 142, in runTest\n",
      "    self.assertAlmostEqual(fn(self.input), self.output, delta=5, msg=f\"Should be {self.output}\")\n",
      "AssertionError: 556.8097990937874 != 562.2422184585524 within 5 delta : Should be 562.2422184585524\n",
      "\n",
      "======================================================================\n",
      "FAIL: runTest (mod.testing.test_stdev.<locals>.TestKnown)\n",
      "----------------------------------------------------------------------\n",
      "Traceback (most recent call last):\n",
      "  File \"C:\\Users\\sergi\\Documents\\IronHack\\labs\\sergi-lab-functions\\mod\\testing.py\", line 142, in runTest\n",
      "    self.assertAlmostEqual(fn(self.input), self.output, delta=5, msg=f\"Should be {self.output}\")\n",
      "AssertionError: 569.7825788212353 != 576.5258026380257 within 5 delta : Should be 576.5258026380257\n",
      "\n",
      "======================================================================\n",
      "FAIL: runTest (mod.testing.test_stdev.<locals>.TestKnown)\n",
      "----------------------------------------------------------------------\n",
      "Traceback (most recent call last):\n",
      "  File \"C:\\Users\\sergi\\Documents\\IronHack\\labs\\sergi-lab-functions\\mod\\testing.py\", line 142, in runTest\n",
      "    self.assertAlmostEqual(fn(self.input), self.output, delta=5, msg=f\"Should be {self.output}\")\n",
      "AssertionError: 568.9497937152232 != 596.7195778131086 within 5 delta : Should be 596.7195778131086\n",
      "\n",
      "======================================================================\n",
      "FAIL: runTest (mod.testing.test_stdev.<locals>.TestKnown)\n",
      "----------------------------------------------------------------------\n",
      "Traceback (most recent call last):\n",
      "  File \"C:\\Users\\sergi\\Documents\\IronHack\\labs\\sergi-lab-functions\\mod\\testing.py\", line 142, in runTest\n",
      "    self.assertAlmostEqual(fn(self.input), self.output, delta=5, msg=f\"Should be {self.output}\")\n",
      "AssertionError: 522.4561438266586 != 531.3876650569832 within 5 delta : Should be 531.3876650569832\n",
      "\n",
      "======================================================================\n",
      "FAIL: runTest (mod.testing.test_stdev.<locals>.TestKnown)\n",
      "----------------------------------------------------------------------\n",
      "Traceback (most recent call last):\n",
      "  File \"C:\\Users\\sergi\\Documents\\IronHack\\labs\\sergi-lab-functions\\mod\\testing.py\", line 142, in runTest\n",
      "    self.assertAlmostEqual(fn(self.input), self.output, delta=5, msg=f\"Should be {self.output}\")\n",
      "AssertionError: 498.41287155584615 != 508.28339157781477 within 5 delta : Should be 508.28339157781477\n",
      "\n",
      "======================================================================\n",
      "FAIL: runTest (mod.testing.test_stdev.<locals>.TestKnown)\n",
      "----------------------------------------------------------------------\n",
      "Traceback (most recent call last):\n",
      "  File \"C:\\Users\\sergi\\Documents\\IronHack\\labs\\sergi-lab-functions\\mod\\testing.py\", line 142, in runTest\n",
      "    self.assertAlmostEqual(fn(self.input), self.output, delta=5, msg=f\"Should be {self.output}\")\n",
      "AssertionError: 482.9573931236367 != 488.29410091204994 within 5 delta : Should be 488.29410091204994\n",
      "\n",
      "======================================================================\n",
      "FAIL: runTest (mod.testing.test_stdev.<locals>.TestKnown)\n",
      "----------------------------------------------------------------------\n",
      "Traceback (most recent call last):\n",
      "  File \"C:\\Users\\sergi\\Documents\\IronHack\\labs\\sergi-lab-functions\\mod\\testing.py\", line 142, in runTest\n",
      "    self.assertAlmostEqual(fn(self.input), self.output, delta=5, msg=f\"Should be {self.output}\")\n",
      "AssertionError: 649.5143045391483 != 657.2011319194717 within 5 delta : Should be 657.2011319194717\n",
      "\n",
      "======================================================================\n",
      "FAIL: runTest (mod.testing.test_stdev.<locals>.TestKnown)\n",
      "----------------------------------------------------------------------\n",
      "Traceback (most recent call last):\n",
      "  File \"C:\\Users\\sergi\\Documents\\IronHack\\labs\\sergi-lab-functions\\mod\\testing.py\", line 142, in runTest\n",
      "    self.assertAlmostEqual(fn(self.input), self.output, delta=5, msg=f\"Should be {self.output}\")\n",
      "AssertionError: 510.9869238675647 != 518.9096742208609 within 5 delta : Should be 518.9096742208609\n",
      "\n",
      "======================================================================\n",
      "FAIL: runTest (mod.testing.test_stdev.<locals>.TestKnown)\n",
      "----------------------------------------------------------------------\n",
      "Traceback (most recent call last):\n",
      "  File \"C:\\Users\\sergi\\Documents\\IronHack\\labs\\sergi-lab-functions\\mod\\testing.py\", line 142, in runTest\n",
      "    self.assertAlmostEqual(fn(self.input), self.output, delta=5, msg=f\"Should be {self.output}\")\n",
      "AssertionError: 529.0396037573652 != 546.389753289719 within 5 delta : Should be 546.389753289719\n",
      "\n",
      "======================================================================\n",
      "FAIL: runTest (mod.testing.test_stdev.<locals>.TestKnown)\n",
      "----------------------------------------------------------------------\n",
      "Traceback (most recent call last):\n",
      "  File \"C:\\Users\\sergi\\Documents\\IronHack\\labs\\sergi-lab-functions\\mod\\testing.py\", line 142, in runTest\n",
      "    self.assertAlmostEqual(fn(self.input), self.output, delta=5, msg=f\"Should be {self.output}\")\n",
      "AssertionError: 552.4160382265713 != 574.9728421680186 within 5 delta : Should be 574.9728421680186\n",
      "\n"
     ]
    },
    {
     "name": "stdout",
     "output_type": "stream",
     "text": [
      "cantidad de valores  80 suma de cuadrados  22995876.6875 suma total  6955 media 86.9375\n",
      "cantidad de valores  93 suma de cuadrados  31992018.989247315 suma total  -4279 media -46.01075268817204\n",
      "cantidad de valores  65 suma de cuadrados  17268550.86153846 suma total  4768 media 73.35384615384615\n",
      "cantidad de valores  75 suma de cuadrados  23236585.279999994 suma total  4998 media 66.64\n",
      "cantidad de valores  55 suma de cuadrados  15831296.909090908 suma total  1800 media 32.72727272727273\n",
      "cantidad de valores  14 suma de cuadrados  3654772.0 suma total  -406 media -29.0\n",
      "cantidad de valores  97 suma de cuadrados  32442333.835051544 suma total  -4175 media -43.04123711340206\n",
      "cantidad de valores  86 suma de cuadrados  29086760.232558127 suma total  -1358 media -15.790697674418604\n",
      "cantidad de valores  86 suma de cuadrados  27526557.209302336 suma total  5896 media 68.55813953488372\n",
      "cantidad de valores  73 suma de cuadrados  25551733.890410952 suma total  -3276 media -44.87671232876713\n",
      "cantidad de valores  57 suma de cuadrados  19391534.877192985 suma total  -2633 media -46.19298245614035\n",
      "cantidad de valores  83 suma de cuadrados  27064042.89156627 suma total  3815 media 45.963855421686745\n",
      "cantidad de valores  53 suma de cuadrados  15889254.113207549 suma total  573 media 10.81132075471698\n",
      "cantidad de valores  23 suma de cuadrados  6363102.869565217 suma total  591 media 25.695652173913043\n",
      "cantidad de valores  10 suma de cuadrados  2313244.1 suma total  -1037 media -103.7\n",
      "cantidad de valores  95 suma de cuadrados  30635753.95789474 suma total  -1062 media -11.178947368421053\n",
      "cantidad de valores  12 suma de cuadrados  3658234.6666666665 suma total  -488 media -40.666666666666664\n",
      "cantidad de valores  76 suma de cuadrados  22618274.10526316 suma total  -544 media -7.157894736842105\n",
      "cantidad de valores  85 suma de cuadrados  28528370.30588235 suma total  -2137 media -25.141176470588235\n",
      "cantidad de valores  59 suma de cuadrados  15050268.169491522 suma total  3252 media 55.11864406779661\n",
      "cantidad de valores  85 suma de cuadrados  26766210.776470587 suma total  3627 media 42.67058823529412\n",
      "cantidad de valores  100 suma de cuadrados  28913763.79 suma total  3961 media 39.61\n",
      "cantidad de valores  98 suma de cuadrados  37063893.8877551 suma total  -3659 media -37.33673469387755\n",
      "cantidad de valores  62 suma de cuadrados  24389453.677419353 suma total  -632 media -10.193548387096774\n",
      "cantidad de valores  61 suma de cuadrados  16520191.049180325 suma total  -3199 media -52.442622950819676\n",
      "cantidad de valores  38 suma de cuadrados  11348958.342105266 suma total  -7453 media -196.1315789473684\n",
      "cantidad de valores  16 suma de cuadrados  5295590.4375 suma total  -723 media -45.1875\n",
      "cantidad de valores  84 suma de cuadrados  30841133.66666665 suma total  1862 media 22.166666666666668\n",
      "cantidad de valores  98 suma de cuadrados  31430190.408163264 suma total  1914 media 19.53061224489796\n"
     ]
    },
    {
     "name": "stderr",
     "output_type": "stream",
     "text": [
      "======================================================================\n",
      "FAIL: runTest (mod.testing.test_stdev.<locals>.TestKnown)\n",
      "----------------------------------------------------------------------\n",
      "Traceback (most recent call last):\n",
      "  File \"C:\\Users\\sergi\\Documents\\IronHack\\labs\\sergi-lab-functions\\mod\\testing.py\", line 142, in runTest\n",
      "    self.assertAlmostEqual(fn(self.input), self.output, delta=5, msg=f\"Should be {self.output}\")\n",
      "AssertionError: 543.9069119701356 != 562.9971411582665 within 5 delta : Should be 562.9971411582665\n",
      "\n",
      "======================================================================\n",
      "FAIL: runTest (mod.testing.test_stdev.<locals>.TestKnown)\n",
      "----------------------------------------------------------------------\n",
      "Traceback (most recent call last):\n",
      "  File \"C:\\Users\\sergi\\Documents\\IronHack\\labs\\sergi-lab-functions\\mod\\testing.py\", line 142, in runTest\n",
      "    self.assertAlmostEqual(fn(self.input), self.output, delta=5, msg=f\"Should be {self.output}\")\n",
      "AssertionError: 573.2314389309742 != 584.1511141960822 within 5 delta : Should be 584.1511141960822\n",
      "\n",
      "======================================================================\n",
      "FAIL: runTest (mod.testing.test_stdev.<locals>.TestKnown)\n",
      "----------------------------------------------------------------------\n",
      "Traceback (most recent call last):\n",
      "  File \"C:\\Users\\sergi\\Documents\\IronHack\\labs\\sergi-lab-functions\\mod\\testing.py\", line 142, in runTest\n",
      "    self.assertAlmostEqual(fn(self.input), self.output, delta=5, msg=f\"Should be {self.output}\")\n",
      "AssertionError: 608.3539311946624 != 620.8986310179787 within 5 delta : Should be 620.8986310179787\n",
      "\n",
      "======================================================================\n",
      "FAIL: runTest (mod.testing.test_stdev.<locals>.TestKnown)\n",
      "----------------------------------------------------------------------\n",
      "Traceback (most recent call last):\n",
      "  File \"C:\\Users\\sergi\\Documents\\IronHack\\labs\\sergi-lab-functions\\mod\\testing.py\", line 142, in runTest\n",
      "    self.assertAlmostEqual(fn(self.input), self.output, delta=5, msg=f\"Should be {self.output}\")\n",
      "AssertionError: 525.8258831352828 != 543.070636903402 within 5 delta : Should be 543.070636903402\n",
      "\n",
      "======================================================================\n",
      "FAIL: runTest (mod.testing.test_stdev.<locals>.TestKnown)\n",
      "----------------------------------------------------------------------\n",
      "Traceback (most recent call last):\n",
      "  File \"C:\\Users\\sergi\\Documents\\IronHack\\labs\\sergi-lab-functions\\mod\\testing.py\", line 142, in runTest\n",
      "    self.assertAlmostEqual(fn(self.input), self.output, delta=5, msg=f\"Should be {self.output}\")\n",
      "AssertionError: 488.1717250477486 != 508.10524096631394 within 5 delta : Should be 508.10524096631394\n",
      "\n",
      "======================================================================\n",
      "FAIL: runTest (mod.testing.test_stdev.<locals>.TestKnown)\n",
      "----------------------------------------------------------------------\n",
      "Traceback (most recent call last):\n",
      "  File \"C:\\Users\\sergi\\Documents\\IronHack\\labs\\sergi-lab-functions\\mod\\testing.py\", line 142, in runTest\n",
      "    self.assertAlmostEqual(fn(self.input), self.output, delta=5, msg=f\"Should be {self.output}\")\n",
      "AssertionError: 510.93555646200906 != 530.2228849194531 within 5 delta : Should be 530.2228849194531\n",
      "\n",
      "======================================================================\n",
      "FAIL: runTest (mod.testing.test_stdev.<locals>.TestKnown)\n",
      "----------------------------------------------------------------------\n",
      "Traceback (most recent call last):\n",
      "  File \"C:\\Users\\sergi\\Documents\\IronHack\\labs\\sergi-lab-functions\\mod\\testing.py\", line 142, in runTest\n",
      "    self.assertAlmostEqual(fn(self.input), self.output, delta=5, msg=f\"Should be {self.output}\")\n",
      "AssertionError: 583.2686913134835 != 588.4534038658484 within 5 delta : Should be 588.4534038658484\n",
      "\n",
      "======================================================================\n",
      "FAIL: runTest (mod.testing.test_stdev.<locals>.TestKnown)\n",
      "----------------------------------------------------------------------\n",
      "Traceback (most recent call last):\n",
      "  File \"C:\\Users\\sergi\\Documents\\IronHack\\labs\\sergi-lab-functions\\mod\\testing.py\", line 142, in runTest\n",
      "    self.assertAlmostEqual(fn(self.input), self.output, delta=5, msg=f\"Should be {self.output}\")\n",
      "AssertionError: 547.5374392852149 != 552.7771513911779 within 5 delta : Should be 552.7771513911779\n",
      "\n",
      "======================================================================\n",
      "FAIL: runTest (mod.testing.test_stdev.<locals>.TestKnown)\n",
      "----------------------------------------------------------------------\n",
      "Traceback (most recent call last):\n",
      "  File \"C:\\Users\\sergi\\Documents\\IronHack\\labs\\sergi-lab-functions\\mod\\testing.py\", line 142, in runTest\n",
      "    self.assertAlmostEqual(fn(self.input), self.output, delta=5, msg=f\"Should be {self.output}\")\n",
      "AssertionError: 525.9816028178509 != 537.8028901155151 within 5 delta : Should be 537.8028901155151\n",
      "\n",
      "======================================================================\n",
      "FAIL: runTest (mod.testing.test_stdev.<locals>.TestKnown)\n",
      "----------------------------------------------------------------------\n",
      "Traceback (most recent call last):\n",
      "  File \"C:\\Users\\sergi\\Documents\\IronHack\\labs\\sergi-lab-functions\\mod\\testing.py\", line 142, in runTest\n",
      "    self.assertAlmostEqual(fn(self.input), self.output, delta=5, msg=f\"Should be {self.output}\")\n",
      "AssertionError: 480.96196315301273 != 506.9784238231665 within 5 delta : Should be 506.9784238231665\n",
      "\n",
      "======================================================================\n",
      "FAIL: runTest (mod.testing.test_stdev.<locals>.TestKnown)\n",
      "----------------------------------------------------------------------\n",
      "Traceback (most recent call last):\n",
      "  File \"C:\\Users\\sergi\\Documents\\IronHack\\labs\\sergi-lab-functions\\mod\\testing.py\", line 142, in runTest\n",
      "    self.assertAlmostEqual(fn(self.input), self.output, delta=5, msg=f\"Should be {self.output}\")\n",
      "AssertionError: 552.1348466533234 != 576.6860392612152 within 5 delta : Should be 576.6860392612152\n",
      "\n",
      "======================================================================\n",
      "FAIL: runTest (mod.testing.test_stdev.<locals>.TestKnown)\n",
      "----------------------------------------------------------------------\n",
      "Traceback (most recent call last):\n",
      "  File \"C:\\Users\\sergi\\Documents\\IronHack\\labs\\sergi-lab-functions\\mod\\testing.py\", line 142, in runTest\n",
      "    self.assertAlmostEqual(fn(self.input), self.output, delta=5, msg=f\"Should be {self.output}\")\n",
      "AssertionError: 627.1987604576933 != 632.3188352926798 within 5 delta : Should be 632.3188352926798\n",
      "\n",
      "======================================================================\n",
      "FAIL: runTest (mod.testing.test_stdev.<locals>.TestKnown)\n",
      "----------------------------------------------------------------------\n",
      "Traceback (most recent call last):\n",
      "  File \"C:\\Users\\sergi\\Documents\\IronHack\\labs\\sergi-lab-functions\\mod\\testing.py\", line 142, in runTest\n",
      "    self.assertAlmostEqual(fn(self.input), self.output, delta=5, msg=f\"Should be {self.output}\")\n",
      "AssertionError: 546.495012307024 != 553.8308440676474 within 5 delta : Should be 553.8308440676474\n",
      "\n",
      "======================================================================\n",
      "FAIL: runTest (mod.testing.test_stdev.<locals>.TestKnown)\n",
      "----------------------------------------------------------------------\n",
      "Traceback (most recent call last):\n",
      "  File \"C:\\Users\\sergi\\Documents\\IronHack\\labs\\sergi-lab-functions\\mod\\testing.py\", line 142, in runTest\n",
      "    self.assertAlmostEqual(fn(self.input), self.output, delta=5, msg=f\"Should be {self.output}\")\n",
      "AssertionError: 575.3037478964916 != 594.1711558970193 within 5 delta : Should be 594.1711558970193\n",
      "\n",
      "----------------------------------------------------------------------\n",
      "Ran 100 tests in 0.329s\n",
      "\n",
      "FAILED (failures=57)\n"
     ]
    }
   ],
   "source": [
    "# This will test your function\n",
    "test_stdev(st_dev)\n",
    "\n",
    "# Our tests need to be improved, so for this exercise, we care about the code itself. You may check if you get\n",
    "# similar results by checking with:\n",
    "\n",
    "from statistics import stdev"
   ]
  },
  {
   "cell_type": "markdown",
   "metadata": {},
   "source": [
    "## 9. Write a function to check if a string is a pangram, i.e.: if it contains all the letters of the alphabet at least once. Mind that the strings may contain characters that are not letters."
   ]
  },
  {
   "cell_type": "code",
   "execution_count": 18,
   "metadata": {},
   "outputs": [
    {
     "name": "stdout",
     "output_type": "stream",
     "text": [
      "True\n"
     ]
    }
   ],
   "source": [
    "\n",
    "def pangram(string):\n",
    "    alphabet=['a','b','c','d','e','f','g','h','i','j','k','l','m','n','o','p','q','r','s','t','u','v','w','x','y','z']\n",
    "    it_doesnt_contain = True \n",
    "    for i in alphabet:\n",
    "        if i in string.lower():\n",
    "            pass\n",
    "        else:\n",
    "            it_doesnt_contain=False\n",
    "    if it_doesnt_contain:\n",
    "        return True\n",
    "    else:\n",
    "        return False\n",
    "print (pangram('abcdefghijklMno?)((pqrstuwxzvy'))\n",
    "            "
   ]
  },
  {
   "cell_type": "code",
   "execution_count": 19,
   "metadata": {},
   "outputs": [
    {
     "name": "stderr",
     "output_type": "stream",
     "text": [
      "..............................\n",
      "----------------------------------------------------------------------\n",
      "Ran 30 tests in 0.045s\n",
      "\n",
      "OK\n"
     ]
    }
   ],
   "source": [
    "# This will test your function \n",
    "test_pangram(pangram)"
   ]
  },
  {
   "cell_type": "markdown",
   "metadata": {},
   "source": [
    "## 10. Write a function to check if a given password is strong (at least 8 characters, at least one lower case, at least one upper case, at least one number and at least one special character). It should output True if strong and False if not.\n",
    "`Valid special characters: # @ ! $ % & ( ) ^ * [ ] { }`"
   ]
  },
  {
   "cell_type": "code",
   "execution_count": 20,
   "metadata": {},
   "outputs": [
    {
     "data": {
      "text/plain": [
       "True"
      ]
     },
     "execution_count": 20,
     "metadata": {},
     "output_type": "execute_result"
    }
   ],
   "source": [
    "def check_pass(string):\n",
    "    #Cheking if each condition is true or false\n",
    "    #return true only if all of them are true\n",
    "    \n",
    "    eight_charecter = False\n",
    "    if len(string) >= 8:\n",
    "        eight_charecter = True\n",
    "    else:\n",
    "        pass\n",
    "    \n",
    "    lower_case = False\n",
    "    for i in string:\n",
    "        if i.islower():\n",
    "            lower_case = True\n",
    "        else:\n",
    "            pass\n",
    "     \n",
    "    upper_case = False\n",
    "    for i in string:\n",
    "        if i.isupper():\n",
    "            upper_case = True\n",
    "        else:\n",
    "            pass\n",
    "    \n",
    "    one_num = False\n",
    "    for i in string:\n",
    "        if i.isdigit():\n",
    "            one_num = True\n",
    "        else:\n",
    "            pass\n",
    "    \n",
    "    special_character = False\n",
    "    for i in string:\n",
    "        if i in [\"#\",\"@\", \"!\", \"$\", \"%\", \"&\", \"(\", \")\", \"^\", \"*\", \"[\", \"]\", \"{\", \"}\"]:\n",
    "            special_character = True\n",
    "        else:\n",
    "            pass\n",
    "\n",
    "    return eight_charecter and lower_case and upper_case and one_num and special_character\n",
    "check_pass('SuperC@lifagrilisticoe$pialidoso!44')"
   ]
  },
  {
   "cell_type": "code",
   "execution_count": 21,
   "metadata": {},
   "outputs": [
    {
     "name": "stderr",
     "output_type": "stream",
     "text": [
      "....................................................................................................\n",
      "----------------------------------------------------------------------\n",
      "Ran 100 tests in 0.107s\n",
      "\n",
      "OK\n"
     ]
    }
   ],
   "source": [
    "# This will test your function \n",
    "test_pass(check_pass)"
   ]
  },
  {
   "cell_type": "markdown",
   "metadata": {},
   "source": [
    "## BONUS"
   ]
  },
  {
   "cell_type": "markdown",
   "metadata": {},
   "source": [
    "## 11. Write a function that returns the mode of a list, i.e.: the element that appears the most times.\n",
    "`NOTE: You should not use count... 🧐`"
   ]
  },
  {
   "cell_type": "code",
   "execution_count": 22,
   "metadata": {},
   "outputs": [
    {
     "data": {
      "text/plain": [
       "3"
      ]
     },
     "execution_count": 22,
     "metadata": {},
     "output_type": "execute_result"
    }
   ],
   "source": [
    "any_list=(1,4,4,4,4,3,3,3,3,3,3,3,3,33,3,33,423,24,24,2424,555,55,555)\n",
    "def mode_counter(arr):\n",
    "    #I create a dictionary to store the the values as a key, and add the total amount as the value. And then I find the max within the values.\n",
    "    mode_dictionary = {}\n",
    "    for i in arr:\n",
    "        mode_dictionary[i] = 0\n",
    "    for i in arr:\n",
    "        mode_dictionary[i]+=1\n",
    "    repeated = [*mode_dictionary.values()]\n",
    "    for key, value in mode_dictionary.items():\n",
    "        if value == greatest(repeated):\n",
    "            mode = key\n",
    "    return mode\n",
    "\n",
    "mode_counter(any_list)"
   ]
  },
  {
   "cell_type": "code",
   "execution_count": 23,
   "metadata": {},
   "outputs": [
    {
     "name": "stderr",
     "output_type": "stream",
     "text": [
      "....................................................................................................\n",
      "----------------------------------------------------------------------\n",
      "Ran 100 tests in 0.121s\n",
      "\n",
      "OK\n"
     ]
    }
   ],
   "source": [
    "# This will test your function \n",
    "test_mode(mode_counter)"
   ]
  },
  {
   "cell_type": "markdown",
   "metadata": {},
   "source": [
    "## 12. Write a function that receives a string of comma separated words and returns a string of comma separated words sorted alphabetically.\n",
    "\n",
    "`NOTE: You may use sorted but not split and definitely no join! 🤪`"
   ]
  },
  {
   "cell_type": "code",
   "execution_count": 25,
   "metadata": {},
   "outputs": [
    {
     "name": "stdout",
     "output_type": "stream",
     "text": [
      "['andrés'] fer,nerea,sergi\n"
     ]
    }
   ],
   "source": [
    "palabra_con_comas='andrés,fer,nerea,sergi'\n",
    "lista_de_palabras=[]\n",
    "donde_corto=palabra_con_comas.find(',')\n",
    "lista_de_palabras.append(palabra_con_comas[:donde_corto])\n",
    "palabra_con_comas = palabra_con_comas[donde_corto+1:]\n",
    "print(lista_de_palabras,palabra_con_comas)"
   ]
  },
  {
   "cell_type": "code",
   "execution_count": 42,
   "metadata": {},
   "outputs": [
    {
     "ename": "TypeError",
     "evalue": "must be str, not tuple",
     "output_type": "error",
     "traceback": [
      "\u001b[1;31m---------------------------------------------------------------------------\u001b[0m",
      "\u001b[1;31mTypeError\u001b[0m                                 Traceback (most recent call last)",
      "\u001b[1;32m<ipython-input-42-2f3cf2b6c400>\u001b[0m in \u001b[0;36m<module>\u001b[1;34m()\u001b[0m\n\u001b[0;32m     17\u001b[0m         \u001b[0mstring_nombres\u001b[0m \u001b[1;33m=\u001b[0m \u001b[0mstring_nombres\u001b[0m\u001b[1;33m+\u001b[0m\u001b[1;34m','\u001b[0m\u001b[1;33m+\u001b[0m\u001b[0mnombres\u001b[0m\u001b[1;33m\u001b[0m\u001b[0m\n\u001b[0;32m     18\u001b[0m     \u001b[1;32mreturn\u001b[0m \u001b[0mstring_nombres\u001b[0m\u001b[1;33m\u001b[0m\u001b[0m\n\u001b[1;32m---> 19\u001b[1;33m \u001b[0mresultado_final\u001b[0m \u001b[1;33m=\u001b[0m \u001b[0msort_alpha\u001b[0m\u001b[1;33m(\u001b[0m\u001b[1;34m'andrés,fer,nerea,sergi,laura'\u001b[0m\u001b[1;33m)\u001b[0m\u001b[1;33m\u001b[0m\u001b[0m\n\u001b[0m\u001b[0;32m     20\u001b[0m \u001b[0mprint\u001b[0m\u001b[1;33m(\u001b[0m\u001b[0mlista_de_palabras\u001b[0m\u001b[1;33m)\u001b[0m\u001b[1;33m\u001b[0m\u001b[0m\n",
      "\u001b[1;32m<ipython-input-42-2f3cf2b6c400>\u001b[0m in \u001b[0;36msort_alpha\u001b[1;34m(palabra)\u001b[0m\n\u001b[0;32m     15\u001b[0m     \u001b[0mlista_de_palabras\u001b[0m\u001b[1;33m.\u001b[0m\u001b[0msort\u001b[0m\u001b[1;33m\u001b[0m\u001b[0m\n\u001b[0;32m     16\u001b[0m     \u001b[1;32mfor\u001b[0m \u001b[0mnombres\u001b[0m \u001b[1;32min\u001b[0m \u001b[0mlista_de_palabras\u001b[0m\u001b[1;33m:\u001b[0m\u001b[1;33m\u001b[0m\u001b[0m\n\u001b[1;32m---> 17\u001b[1;33m         \u001b[0mstring_nombres\u001b[0m \u001b[1;33m=\u001b[0m \u001b[0mstring_nombres\u001b[0m\u001b[1;33m+\u001b[0m\u001b[1;34m','\u001b[0m\u001b[1;33m+\u001b[0m\u001b[0mnombres\u001b[0m\u001b[1;33m\u001b[0m\u001b[0m\n\u001b[0m\u001b[0;32m     18\u001b[0m     \u001b[1;32mreturn\u001b[0m \u001b[0mstring_nombres\u001b[0m\u001b[1;33m\u001b[0m\u001b[0m\n\u001b[0;32m     19\u001b[0m \u001b[0mresultado_final\u001b[0m \u001b[1;33m=\u001b[0m \u001b[0msort_alpha\u001b[0m\u001b[1;33m(\u001b[0m\u001b[1;34m'andrés,fer,nerea,sergi,laura'\u001b[0m\u001b[1;33m)\u001b[0m\u001b[1;33m\u001b[0m\u001b[0m\n",
      "\u001b[1;31mTypeError\u001b[0m: must be str, not tuple"
     ]
    }
   ],
   "source": [
    "lista_de_palabras=[]\n",
    "def corta_y_pega(palabra_input2):\n",
    "    donde_corto=palabra_input2.find(',')\n",
    "    palabra_cortada=palabra_input2[:donde_corto]\n",
    "    resto_de_palabra = palabra_input2[donde_corto:]\n",
    "    return palabra_cortada, resto_de_palabra\n",
    "    \n",
    "    \n",
    "def sort_alpha(palabra):\n",
    "    string_nombres=''\n",
    "    for coma in palabra:\n",
    "        if coma == ',':\n",
    "            nuevo_nombre=corta_y_pega(palabra)\n",
    "            lista_de_palabras.append(nuevo_nombre)\n",
    "    lista_de_palabras.sort\n",
    "    for nombres in lista_de_palabras:\n",
    "        string_nombres = string_nombres+','+nombres\n",
    "    return string_nombres\n",
    "resultado_final = sort_alpha('andrés,fer,nerea,sergi,laura')\n",
    "print(lista_de_palabras)            \n"
   ]
  },
  {
   "cell_type": "code",
   "execution_count": null,
   "metadata": {},
   "outputs": [],
   "source": [
    "# This will test your function \n",
    "test_alpha(sort_alpha)"
   ]
  },
  {
   "cell_type": "code",
   "execution_count": null,
   "metadata": {},
   "outputs": [],
   "source": []
  }
 ],
 "metadata": {
  "kernelspec": {
   "display_name": "Python 3",
   "language": "python",
   "name": "python3"
  },
  "language_info": {
   "codemirror_mode": {
    "name": "ipython",
    "version": 3
   },
   "file_extension": ".py",
   "mimetype": "text/x-python",
   "name": "python",
   "nbconvert_exporter": "python",
   "pygments_lexer": "ipython3",
   "version": "3.6.5"
  },
  "toc": {
   "base_numbering": 1,
   "nav_menu": {},
   "number_sections": true,
   "sideBar": true,
   "skip_h1_title": false,
   "title_cell": "Table of Contents",
   "title_sidebar": "Contents",
   "toc_cell": false,
   "toc_position": {},
   "toc_section_display": true,
   "toc_window_display": false
  }
 },
 "nbformat": 4,
 "nbformat_minor": 4
}
